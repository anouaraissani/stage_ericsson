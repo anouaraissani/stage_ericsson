{
 "cells": [
  {
   "cell_type": "markdown",
   "metadata": {},
   "source": [
    "# exo1\n",
    "Using escape sequence print each word in different lines. Sample:"
   ]
  },
  {
   "cell_type": "code",
   "execution_count": 12,
   "metadata": {},
   "outputs": [
    {
     "name": "stdout",
     "output_type": "stream",
     "text": [
      "hey!\n",
      "welcome\n",
      "to\n",
      "edureka\n"
     ]
    }
   ],
   "source": [
    "\n",
    "s = \"hey! welcome to edureka\"\n",
    "s1 = s.split(\" \")\n",
    "\n",
    "for x in s1:\n",
    "    print(x)"
   ]
  },
  {
   "cell_type": "markdown",
   "metadata": {},
   "source": [
    "# exo2\n",
    "Write a program to create a list of even numbers starting from x to y."
   ]
  },
  {
   "cell_type": "code",
   "execution_count": 14,
   "metadata": {},
   "outputs": [
    {
     "name": "stdout",
     "output_type": "stream",
     "text": [
      "100 201\n",
      "[100, 102, 104, 106, 108, 110, 112, 114, 116, 118, 120, 122, 124, 126, 128, 130, 132, 134, 136, 138, 140, 142, 144, 146, 148, 150, 152, 154, 156, 158, 160, 162, 164, 166, 168, 170, 172, 174, 176, 178, 180, 182, 184, 186, 188, 190, 192, 194, 196, 198, 200]\n"
     ]
    }
   ],
   "source": [
    "x, y = input().split(' ')\n",
    "print(x, y)\n",
    "l = list(range(int(x), int(y), 2))\n",
    "print(l)\n"
   ]
  },
  {
   "cell_type": "markdown",
   "metadata": {},
   "source": [
    "# exo3\n"
   ]
  },
  {
   "cell_type": "code",
   "execution_count": 20,
   "metadata": {},
   "outputs": [
    {
     "name": "stdout",
     "output_type": "stream",
     "text": [
      "i love apples \n",
      "i prefer apples \n"
     ]
    }
   ],
   "source": [
    "st = input() \n",
    "x, y = input().split(' ')\n",
    "print(st)\n",
    "st = st.replace(x, y)\n",
    "print(st)"
   ]
  },
  {
   "cell_type": "markdown",
   "metadata": {},
   "source": [
    "# exo4\n"
   ]
  },
  {
   "cell_type": "code",
   "execution_count": 36,
   "metadata": {},
   "outputs": [
    {
     "name": "stdout",
     "output_type": "stream",
     "text": [
      "0\n",
      "1\n",
      "1\n",
      "2\n",
      "3\n",
      "5\n",
      "8\n",
      "13\n",
      "21\n",
      "34\n"
     ]
    }
   ],
   "source": [
    "N = int(input(\"where do you want to stop? :\"))\n",
    "u0 = 0\n",
    "u1 = 1\n",
    "print(u0)\n",
    "print(u1)\n",
    "for i in range(2, N):\n",
    "    un = u0 + u1\n",
    "    u0 = u1 \n",
    "    u1 = un\n",
    "    print(un)\n"
   ]
  },
  {
   "cell_type": "markdown",
   "metadata": {},
   "source": [
    "# exo5"
   ]
  },
  {
   "cell_type": "code",
   "execution_count": 46,
   "metadata": {},
   "outputs": [
    {
     "name": "stdout",
     "output_type": "stream",
     "text": [
      "21\n"
     ]
    }
   ],
   "source": [
    "num = int(input())\n",
    "s = 0\n",
    "while(num != 0):\n",
    "    s = s + num % 10\n",
    "    num = num // 10\n",
    "print(s)\n",
    "\n"
   ]
  },
  {
   "cell_type": "markdown",
   "metadata": {},
   "source": [
    "# exo6\n",
    "Write a program to find factorial of a given number N."
   ]
  },
  {
   "cell_type": "code",
   "execution_count": 22,
   "metadata": {},
   "outputs": [
    {
     "name": "stdout",
     "output_type": "stream",
     "text": [
      "120\n"
     ]
    }
   ],
   "source": [
    "num = int(input())\n",
    "f  = num\n",
    "while(num >= 2):\n",
    "    num = num - 1\n",
    "    f = f * num\n",
    "print(f)"
   ]
  },
  {
   "cell_type": "markdown",
   "metadata": {},
   "source": [
    "# exo7\n",
    "Write a program to generate the following pattern:\n",
    "\\n*\n",
    "\\n**\n",
    "\\n***\n",
    "\\n****"
   ]
  },
  {
   "cell_type": "code",
   "execution_count": 25,
   "metadata": {},
   "outputs": [
    {
     "name": "stdout",
     "output_type": "stream",
     "text": [
      "\n",
      "*\n",
      "**\n",
      "***\n",
      "****\n",
      "*****\n"
     ]
    }
   ],
   "source": [
    "for i in range(6):\n",
    "    print('*'*i)"
   ]
  },
  {
   "cell_type": "markdown",
   "metadata": {},
   "source": [
    "# exo8\n",
    "Write a program to generate the following pattern."
   ]
  },
  {
   "cell_type": "code",
   "execution_count": 31,
   "metadata": {},
   "outputs": [
    {
     "name": "stdout",
     "output_type": "stream",
     "text": [
      "    *\n",
      "   ***\n",
      "  *****\n",
      " *******\n",
      "*********\n"
     ]
    }
   ],
   "source": [
    "j = 4\n",
    "for i in range(1,10,2):\n",
    "    print(' '*j+'*'*i)\n",
    "    j -= 1\n"
   ]
  },
  {
   "cell_type": "markdown",
   "metadata": {},
   "source": [
    "# exo9\n",
    "Write a program to generate the following pattern for given depth N."
   ]
  },
  {
   "cell_type": "code",
   "execution_count": 47,
   "metadata": {},
   "outputs": [
    {
     "name": "stdout",
     "output_type": "stream",
     "text": [
      "          *\n",
      "         ***\n",
      "        *****\n",
      "       *******\n",
      "      *********\n",
      "     ***********\n",
      "    *************\n",
      "   ***************\n",
      "  *****************\n",
      " *******************\n"
     ]
    }
   ],
   "source": [
    "N  = int(input())\n",
    "j = 1\n",
    "for i in range(N, 0, -1):\n",
    "    print(' '*i+'*'*j)\n",
    "    j += 2\n",
    "    "
   ]
  },
  {
   "cell_type": "markdown",
   "metadata": {},
   "source": [
    "# exo10\n",
    "Write a program to generate the following output."
   ]
  },
  {
   "cell_type": "code",
   "execution_count": 59,
   "metadata": {},
   "outputs": [
    {
     "name": "stdout",
     "output_type": "stream",
     "text": [
      "1 \n",
      "2 3 \n",
      "3 4 5 \n",
      "4 5 6 7 \n",
      "5 6 7 8 9 \n"
     ]
    }
   ],
   "source": [
    "for i in range(1, 6):\n",
    "    for j in range(i, i*2):\n",
    "        print(j, end=' ')\n",
    "    print()"
   ]
  },
  {
   "cell_type": "markdown",
   "metadata": {},
   "source": [
    "# exo11\n",
    "Write a program that accepts N values and print it as a list"
   ]
  },
  {
   "cell_type": "code",
   "execution_count": 68,
   "metadata": {},
   "outputs": [
    {
     "name": "stdout",
     "output_type": "stream",
     "text": [
      "[1, 2, 3, 4, 5]\n"
     ]
    }
   ],
   "source": [
    "l = []\n",
    "N = int(input())\n",
    "for i in range(N):\n",
    "    l.append(int(input()))\n",
    "print(l)"
   ]
  },
  {
   "cell_type": "markdown",
   "metadata": {},
   "source": [
    "# exo12\n",
    "Write a program to find the given number is Armstrong number or not and print out as 'Yes' or 'No'.\n",
    "[Hint: Armstrong Number is sum of its own digits raised to power of 3]\n",
    "Input:153\n",
    "Output:Yes"
   ]
  },
  {
   "cell_type": "markdown",
   "metadata": {},
   "source": [
    "method 1:"
   ]
  },
  {
   "cell_type": "code",
   "execution_count": 76,
   "metadata": {},
   "outputs": [
    {
     "name": "stdout",
     "output_type": "stream",
     "text": [
      "No\n"
     ]
    }
   ],
   "source": [
    "rest = 0\n",
    "s = 0\n",
    "N = int(input())\n",
    "Nt = N\n",
    "while(N != 0):\n",
    "    rest = N % 10\n",
    "    s = s + rest **3\n",
    "    N  = N // 10\n",
    "if s == Nt:\n",
    "    print('Yes')\n",
    "else:\n",
    "    print('No')\n"
   ]
  },
  {
   "cell_type": "markdown",
   "metadata": {},
   "source": [
    "method 2:"
   ]
  },
  {
   "cell_type": "code",
   "execution_count": 92,
   "metadata": {},
   "outputs": [
    {
     "name": "stdout",
     "output_type": "stream",
     "text": [
      "Yes\n"
     ]
    }
   ],
   "source": [
    "s = 0\n",
    "n = input()\n",
    "for i in list(n):\n",
    "    s = s + int(i)**3\n",
    "if s == int(n):\n",
    "    print('Yes')\n",
    "else:\n",
    "    print('No')\n"
   ]
  },
  {
   "cell_type": "markdown",
   "metadata": {},
   "source": [
    "# exo13\n",
    "Write a program to find the N th number of a Arthematic Progression when initial number(a) and\n",
    "difference( d ) are given.\n",
    "Input:\n",
    "The input is N, a, d each in newline\n",
    "4\n",
    "2\n",
    "3\n",
    "Output:\n",
    "11"
   ]
  },
  {
   "cell_type": "code",
   "execution_count": 97,
   "metadata": {},
   "outputs": [
    {
     "name": "stdout",
     "output_type": "stream",
     "text": [
      "11\n"
     ]
    }
   ],
   "source": [
    "N = int(input())\n",
    "a = int(input())\n",
    "d = int(input())\n",
    "print(a + (N-1)*d)\n",
    "\n",
    " "
   ]
  },
  {
   "cell_type": "markdown",
   "metadata": {},
   "source": [
    "# exo14\n",
    "Write a program to generate a sequence of N numbers of a geometric progression when intial number ( a )\n",
    "and common ratio( r ) is given. print the sequence as a list.\n",
    "Input:\n",
    "The input is N,a,r seperated by comma.\n",
    "5,2,3\n",
    "Output: [2, 6, 18, 54, 162]"
   ]
  },
  {
   "cell_type": "markdown",
   "metadata": {},
   "source": [
    "method 1"
   ]
  },
  {
   "cell_type": "code",
   "execution_count": 103,
   "metadata": {},
   "outputs": [
    {
     "name": "stdout",
     "output_type": "stream",
     "text": [
      "[2, 6, 18, 54, 162]\n"
     ]
    }
   ],
   "source": [
    "N = int(input())\n",
    "a = int(input())\n",
    "r = int(input())\n",
    "l = [] \n",
    "for i in range(N):\n",
    "    l.append(a)\n",
    "    a = a*r\n",
    "print(l)\n"
   ]
  },
  {
   "cell_type": "markdown",
   "metadata": {},
   "source": [
    "method 2"
   ]
  },
  {
   "cell_type": "code",
   "execution_count": 106,
   "metadata": {},
   "outputs": [
    {
     "name": "stdout",
     "output_type": "stream",
     "text": [
      "[2, 6, 18, 54, 162]\n"
     ]
    }
   ],
   "source": [
    "N, a, r = map(int, input().split(' '))\n",
    "l = []\n",
    "for i in range(N):\n",
    "    l.append(a*r**i)\n",
    "print(l)"
   ]
  },
  {
   "cell_type": "markdown",
   "metadata": {},
   "source": [
    "# exo15\n",
    "Write a program to find the count of each aplhabet in the given sentence."
   ]
  },
  {
   "cell_type": "code",
   "execution_count": 116,
   "metadata": {},
   "outputs": [
    {
     "name": "stdout",
     "output_type": "stream",
     "text": [
      "i 2\n",
      "e 1\n",
      "p 1\n",
      "  2\n",
      "l 1\n",
      "f 2\n",
      "o 1\n"
     ]
    }
   ],
   "source": [
    "sentence = input()\n",
    "set_sentence = set(sentence)\n",
    "for i in set_sentence:\n",
    "    print(i,sentence.count(i))"
   ]
  },
  {
   "cell_type": "markdown",
   "metadata": {},
   "source": [
    "# exo16 \n",
    "Write a program that calculate number of lowercase, uppercase and numbers alphabets."
   ]
  },
  {
   "cell_type": "code",
   "execution_count": 122,
   "metadata": {},
   "outputs": [
    {
     "name": "stdout",
     "output_type": "stream",
     "text": [
      "Happy Birthday Draven! Now you are 26.\n",
      "Uppercase characters:  4\n",
      "Lowercase characters:  24\n",
      "Numbers:  2\n"
     ]
    }
   ],
   "source": [
    "low = 0\n",
    "up = 0\n",
    "num = 0\n",
    "sentence = input()\n",
    "print(sentence)\n",
    "for i in sentence:\n",
    "    if i.islower():\n",
    "        low = low + 1\n",
    "    elif i.isupper():\n",
    "        up = up + 1\n",
    "    elif i.isdigit():\n",
    "        num = num + 1\n",
    "print('Uppercase characters: ', up)\n",
    "print('Lowercase characters: ', low)\n",
    "print('Numbers: ', num)"
   ]
  },
  {
   "cell_type": "markdown",
   "metadata": {},
   "source": [
    "# exo17\n",
    "Write a program to find whether a given string is palindrome or not"
   ]
  },
  {
   "cell_type": "code",
   "execution_count": 133,
   "metadata": {},
   "outputs": [
    {
     "name": "stdout",
     "output_type": "stream",
     "text": [
      "Yes\n"
     ]
    }
   ],
   "source": [
    "word = input()\n",
    "if word == word[::-1] :\n",
    "    print('Yes')\n",
    "else:\n",
    "    print('No')"
   ]
  },
  {
   "cell_type": "markdown",
   "metadata": {},
   "source": [
    "# exo18\n",
    "Write a program that accepts a sequence of numbers and print the numbers after sorting them seperated\n",
    "by comma."
   ]
  },
  {
   "cell_type": "code",
   "execution_count": 148,
   "metadata": {},
   "outputs": [
    {
     "name": "stdout",
     "output_type": "stream",
     "text": [
      "[0, 3, 5, 7, 8]\n"
     ]
    }
   ],
   "source": [
    "N = int(input())\n",
    "l = []\n",
    "for i in range(N):\n",
    "    l.append(int(input()))\n",
    "l.sort()\n",
    "print(l)\n"
   ]
  },
  {
   "cell_type": "markdown",
   "metadata": {},
   "source": [
    "# exo19\n",
    "Given below a list of integers, find the triplets whose sum if equal to zero and print them as tuples."
   ]
  },
  {
   "cell_type": "code",
   "execution_count": 166,
   "metadata": {},
   "outputs": [
    {
     "name": "stdout",
     "output_type": "stream",
     "text": [
      "(0, 2, -2)\n",
      "(0, 3, -3)\n",
      "(0, 4, -4)\n",
      "(0, 5, -5)\n",
      "(0, 6, -6)\n",
      "(0, 9, -9)\n",
      "(2, 3, -5)\n",
      "(2, 4, -6)\n",
      "(2, 5, -7)\n",
      "(3, 4, -7)\n",
      "(3, 6, -9)\n",
      "(3, -1, -2)\n",
      "(4, 5, -9)\n",
      "(4, -1, -3)\n",
      "(5, -1, -4)\n",
      "(5, -3, -2)\n",
      "(6, -1, -5)\n",
      "(6, -4, -2)\n",
      "(9, -7, -2)\n",
      "(9, -6, -3)\n",
      "(9, -5, -4)\n",
      "[(0, 2, -2), (0, 3, -3), (0, 4, -4), (0, 5, -5), (0, 6, -6), (0, 9, -9), (2, 3, -5), (2, 4, -6), (2, 5, -7), (3, 4, -7), (3, 6, -9), (3, -1, -2), (4, 5, -9), (4, -1, -3), (5, -1, -4), (5, -3, -2), (6, -1, -5), (6, -4, -2), (9, -7, -2), (9, -6, -3), (9, -5, -4)]\n"
     ]
    }
   ],
   "source": [
    "int_list = [0, 2, 3, 4, 5, 6, 9, -1, -9, -7, -6, -5, -4, -3, -2]\n",
    "l = len(int_list)\n",
    "tuplelist = []\n",
    "t = []\n",
    "for i in range(l-2):\n",
    "    for j in range(i+1,l-1):\n",
    "        for k in range(j+1, l):\n",
    "            if int_list[i]+int_list[j]+int_list[k] == 0:\n",
    "                tuplelist.append(tuple([int_list[i],int_list[j],int_list[k]]))\n",
    "for i in tuplelist:\n",
    "    print(i)\n",
    "\n",
    "\n",
    "\n",
    "\n"
   ]
  },
  {
   "cell_type": "markdown",
   "metadata": {},
   "source": [
    "# exo 20\n",
    "Using for loop print aplhabets from a-z seperated by space."
   ]
  },
  {
   "cell_type": "code",
   "execution_count": 156,
   "metadata": {},
   "outputs": [
    {
     "name": "stdout",
     "output_type": "stream",
     "text": [
      "a b c d e f g h i j k l m n o p q r s t u v w x y z "
     ]
    }
   ],
   "source": [
    "\n",
    "for i in range(97, 123):\n",
    "    print(chr(i), end = ' ')"
   ]
  },
  {
   "cell_type": "markdown",
   "metadata": {},
   "source": [
    "# exo22\n",
    "Write a program which accepts a string from console and print it in reverse order."
   ]
  },
  {
   "cell_type": "code",
   "execution_count": 167,
   "metadata": {},
   "outputs": [
    {
     "name": "stdout",
     "output_type": "stream",
     "text": [
      "yek epacsE eht no regnif eno peek syawlA\n"
     ]
    }
   ],
   "source": [
    "sentence = input()\n",
    "print(sentence[::-1])"
   ]
  },
  {
   "cell_type": "markdown",
   "metadata": {},
   "source": [
    "# exo23\n",
    "Write a program which accepts a string from console and print the words in reverse order."
   ]
  },
  {
   "cell_type": "code",
   "execution_count": 185,
   "metadata": {},
   "outputs": [
    {
     "name": "stdout",
     "output_type": "stream",
     "text": [
      "syawlA peek eno regnif no eht epacsE yek "
     ]
    }
   ],
   "source": [
    "sentence = input().split(' ')\n",
    "for word in sentence:\n",
    "    print(word[::-1], end = ' ')\n",
    "    "
   ]
  },
  {
   "cell_type": "markdown",
   "metadata": {},
   "source": [
    "# exo24\n",
    "Write a program to calculate the numbers between X and Y which are divisible by 5 and 13 but not divisible\n",
    "by 10 seperated by space."
   ]
  },
  {
   "cell_type": "code",
   "execution_count": 198,
   "metadata": {},
   "outputs": [
    {
     "name": "stdout",
     "output_type": "stream",
     "text": [
      "65 195 "
     ]
    }
   ],
   "source": [
    "x, y = map(int, input().split(' '))\n",
    "for i in range(x, y+1):\n",
    "    if (i % 5 == 0) and (i % 13 == 0) and (i % 10 != 0):\n",
    "\n",
    "        print(i, end = ' ')"
   ]
  },
  {
   "cell_type": "markdown",
   "metadata": {},
   "source": [
    "# exo25\n",
    "Write a program to calculate all possible permutations for a given sequence of numbers.\n",
    "Input: N is length of sequence and next line contains sequence seperated by space.\n",
    "3\n",
    "4,6,2"
   ]
  },
  {
   "cell_type": "code",
   "execution_count": 225,
   "metadata": {},
   "outputs": [
    {
     "name": "stdout",
     "output_type": "stream",
     "text": [
      "[[2, 4, 6], [2, 6, 4], [4, 2, 6], [4, 6, 2], [6, 2, 4], [6, 4, 2]]\n"
     ]
    }
   ],
   "source": [
    "N = int(input())\n",
    "l = []\n",
    "sequence = []\n",
    "for i in range(N):\n",
    "    l.append(int(input()))\n",
    "for i in range(N):\n",
    "    for j in range(N):\n",
    "        if j != i:\n",
    "            for k in range(N):\n",
    "                if k != i and k != j:\n",
    "                    inner_sequence = []\n",
    "                    inner_sequence.extend([l[i], l[j], l[k]])\n",
    "                    sequence.append(inner_sequence)\n",
    "print(sequence) \n",
    "    "
   ]
  },
  {
   "cell_type": "markdown",
   "metadata": {},
   "source": [
    "# exo26\n",
    "Samantha represents the performance of students using dictionary in tests as follows:\n",
    "{'English':{'Sam':60,'Jackson':74}, 'History':{'Gloria':83,'Sam':35} ,....}\n",
    "Your task is to create a dictionary with student names as keys and their average marks from all subjects.\n",
    "Consider the below dictionary as input"
   ]
  },
  {
   "cell_type": "code",
   "execution_count": 298,
   "metadata": {},
   "outputs": [
    {
     "name": "stdout",
     "output_type": "stream",
     "text": [
      "{'Isla': 50.6, 'Aron': 45.8, 'Ahree': 66.6, 'Sam': 62.6, 'Jackson': 51.0, 'Gray': 46.8, 'Gloria': 50.4}\n"
     ]
    }
   ],
   "source": [
    "tests = {'English':{'Sam':60,'Jackson':74,'Ahree':85},\n",
    "'History':{'Gloria':83,'Sam':65,'Isla':78,'Aron':72,'Gray':61},\n",
    "'Geography':{'Jackson':92,'Gloria':95,'Isla':82,'Aron':75,'Ahree':76},\n",
    "'Mathematics':{'Sam':99,'Gloria':74,'Jackson':89,'Ahree':85,'Gray':95},\n",
    "'Science':{'Sam':89,'Aron':82,'Gray':78,'Isla':93,'Ahree':87}\n",
    "}\n",
    "l = []\n",
    "for i in tests:\n",
    "    l.extend(tests[i].keys())\n",
    "l = set(l)\n",
    "dic = {}\n",
    "dic = dict.fromkeys(l, 0)\n",
    "\n",
    "for i in tests:\n",
    "    for key in tests[i]:\n",
    "        dic[key] = dic[key]+tests[i][key]\n",
    "for key in dic:\n",
    "    dic[key] = dic[key]/5\n",
    "print(dic)\n",
    "\n"
   ]
  },
  {
   "cell_type": "markdown",
   "metadata": {},
   "source": [
    "# exo27\n",
    "Create a dictionary from the following keys: 'Name', 'Class', 'Age'\n",
    "with empty lists and input the data of five students"
   ]
  },
  {
   "cell_type": "code",
   "execution_count": 242,
   "metadata": {},
   "outputs": [
    {
     "name": "stdout",
     "output_type": "stream",
     "text": [
      "{'Name': ['aze', 'rty'], 'Class': ['qsd', 'fgh'], 'Age': ['wxc', 'cvb']}\n"
     ]
    }
   ],
   "source": [
    "dic = {'Name': [], 'Class': [], 'Age': []}\n",
    "for i in range(2):\n",
    "    dic['Name'].append(input())\n",
    "    dic['Class'].append(input())\n",
    "    dic['Age'].append(input())\n",
    "print(dic)"
   ]
  },
  {
   "cell_type": "markdown",
   "metadata": {},
   "source": [
    "# exo28\n",
    "Write a program to concatenate the following dictionaries:\n",
    "dict1={'A':10, 'B':20}\n",
    "dict2={'C':30, 'D':40}\n"
   ]
  },
  {
   "cell_type": "code",
   "execution_count": 246,
   "metadata": {},
   "outputs": [
    {
     "name": "stdout",
     "output_type": "stream",
     "text": [
      "{'A': 10, 'B': 20, 'C': 30, 'D': 40, 'E': 50, 'F': 60}\n"
     ]
    }
   ],
   "source": [
    "dict1={'A':10, 'B':20}\n",
    "dict2={'C':30, 'D':40}\n",
    "dict3={'E':50,'F':60}\n",
    "dict = {}\n",
    "dict.update(dict1)\n",
    "dict.update(dict2)\n",
    "dict.update(dict3)\n",
    "print(dict)"
   ]
  },
  {
   "cell_type": "markdown",
   "metadata": {},
   "source": [
    "# exo29\n",
    "Write a program to generate prime numbers from 1 to 1000 and save them to a text file. Read N lines of the\n",
    "previous file."
   ]
  },
  {
   "cell_type": "code",
   "execution_count": 311,
   "metadata": {},
   "outputs": [
    {
     "name": "stdout",
     "output_type": "stream",
     "text": [
      "2 3 5 7 11 13 17 19 23 29 31 37 41 43 47 53 59 61 67 71 73 79 83 89 97 101 103 107 109 113 127 131 137 139 149 151 157 163 167 173 179 181 191 193 197 199 211 223 227 229 233 239 241 251 257 263 269 271 277 281 283 293 307 311 313 317 331 337 347 349 353 359 367 373 379 383 389 397 401 409 419 421 431 433 439 443 449 457 461 463 467 479 487 491 499 503 509 521 523 541 547 557 563 569 571 577 587 593 599 601 607 613 617 619 631 641 643 647 653 659 661 673 677 683 691 701 709 719 727 733 739 743 751 757 761 769 773 787 797 809 811 821 823 827 829 839 853 857 859 863 877 881 883 887 907 911 919 929 937 941 947 953 967 971 977 983 991 997 \n"
     ]
    }
   ],
   "source": [
    "obj_file = open(\"exo29\",\"w\")\n",
    "prim = True\n",
    "for i in range(2, 1000):\n",
    "    prim = True\n",
    "    for j in range(2, i//2+1):\n",
    "        if(i % j == 0):\n",
    "            prim = False\n",
    "    if prim == True:\n",
    "        obj_file.write(str(i)+' ')\n",
    "obj_file.close()\n",
    "\n",
    "obj_file = open(\"exo29\",\"r\")\n",
    "for i in obj_file:\n",
    "    print(i)\n",
    "obj_file.close()\n",
    "\n",
    "            \n"
   ]
  },
  {
   "cell_type": "markdown",
   "metadata": {},
   "source": [
    "# exo30\n",
    "Create a game of Rock, Papers and Scissors against computer using Python. Rules for the game are given\n",
    "as follows:\n",
    "Rock beats Scissor\n",
    "Scissor beats Paper\n",
    "Paper beats Rock\n",
    "If the play loses ask him either he wants to payback or not. If the response is 'Yes' then continue the game.\n",
    "If the player says 'No' then display the final scores. Input moves as R for Rock, P for Paper and S for\n",
    "scissors. Response to every move should be proper example:"
   ]
  },
  {
   "cell_type": "code",
   "execution_count": 323,
   "metadata": {},
   "outputs": [
    {
     "name": "stdout",
     "output_type": "stream",
     "text": [
      "R: Rock\n",
      "P: Paper\n",
      "S: Scissors\n",
      "Choose your role: \n",
      "S\n",
      "Lose\n",
      "Play again? (1 for Yes /0 for No)\n"
     ]
    }
   ],
   "source": [
    "import random\n",
    "play =1\n",
    "while(play == 1):\n",
    "    print(\"R: Rock\")\n",
    "    print(\"P: Paper\")\n",
    "    print(\"S: Scissors\")\n",
    "    print(\"Choose your role: \")\n",
    "    p = input()\n",
    "    c = random.choice([\"R\", \"S\", \"P\"])\n",
    "    print(c)\n",
    "    if ((p==\"R\" and c== \"S\" ) or (p==\"S\" and c==\"P\") or ( p ==\"P\" and c==\"R\")):\n",
    "        print(\"Win\")\n",
    "    else:\n",
    "        print(\"Lose\")\n",
    "    print(\"Play again? (1 for Yes /0 for No)\")\n",
    "    play = input()\n",
    "    if( play == 0):\n",
    "        print(\"Good bye\")\n",
    "\n",
    "\n"
   ]
  },
  {
   "cell_type": "code",
   "execution_count": 4,
   "metadata": {},
   "outputs": [
    {
     "ename": "TypeError",
     "evalue": "<lambda>() missing 1 required positional argument: 'x'",
     "output_type": "error",
     "traceback": [
      "\u001b[1;31m---------------------------------------------------------------------------\u001b[0m",
      "\u001b[1;31mTypeError\u001b[0m                                 Traceback (most recent call last)",
      "\u001b[1;32m~\\AppData\\Local\\Temp/ipykernel_7804/2777723557.py\u001b[0m in \u001b[0;36m<module>\u001b[1;34m\u001b[0m\n\u001b[0;32m      2\u001b[0m \u001b[1;33m\u001b[0m\u001b[0m\n\u001b[0;32m      3\u001b[0m \u001b[1;32mfor\u001b[0m \u001b[0mtable\u001b[0m \u001b[1;32min\u001b[0m \u001b[0mtables\u001b[0m\u001b[1;33m:\u001b[0m\u001b[1;33m\u001b[0m\u001b[1;33m\u001b[0m\u001b[0m\n\u001b[1;32m----> 4\u001b[1;33m     \u001b[0mprint\u001b[0m\u001b[1;33m(\u001b[0m\u001b[0mtable\u001b[0m\u001b[1;33m(\u001b[0m\u001b[1;33m)\u001b[0m\u001b[1;33m)\u001b[0m\u001b[1;33m\u001b[0m\u001b[1;33m\u001b[0m\u001b[0m\n\u001b[0m",
      "\u001b[1;31mTypeError\u001b[0m: <lambda>() missing 1 required positional argument: 'x'"
     ]
    }
   ],
   "source": [
    "tables = [lambda x: x*10 for x in range(1, 11)]\n",
    " \n",
    "for table in tables:\n",
    "    print(table())"
   ]
  }
 ],
 "metadata": {
  "interpreter": {
   "hash": "11938c6bc6919ae2720b4d5011047913343b08a43b18698fd82dedb0d4417594"
  },
  "kernelspec": {
   "display_name": "Python 3.9.9 64-bit",
   "language": "python",
   "name": "python3"
  },
  "language_info": {
   "codemirror_mode": {
    "name": "ipython",
    "version": 3
   },
   "file_extension": ".py",
   "mimetype": "text/x-python",
   "name": "python",
   "nbconvert_exporter": "python",
   "pygments_lexer": "ipython3",
   "version": "3.9.9"
  },
  "orig_nbformat": 4
 },
 "nbformat": 4,
 "nbformat_minor": 2
}
